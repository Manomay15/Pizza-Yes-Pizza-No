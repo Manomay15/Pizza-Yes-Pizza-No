{
 "cells": [
  {
   "cell_type": "code",
   "execution_count": 1,
   "id": "1319c0c0",
   "metadata": {},
   "outputs": [],
   "source": [
    "import tensorflow as tf\n",
    "from tensorflow import keras\n",
    "from tensorflow.keras.preprocessing.image import ImageDataGenerator\n",
    "import pathlib\n",
    "import os"
   ]
  },
  {
   "cell_type": "code",
   "execution_count": 2,
   "id": "082657f5",
   "metadata": {},
   "outputs": [],
   "source": [
    "train_yes_dir = os.path.join('D:/Datasets/pizzanotpizza/pizza_not_pizza/train/yes')\n",
    "train_no_dir = os.path.join('D:/Datasets/pizzanotpizza/pizza_not_pizza/train/no')\n",
    "valid_yes_dir = os.path.join('D:/Datasets/pizzanotpizza/pizza_not_pizza/valid/yes')\n",
    "valid_no_dir = os.path.join('D:/Datasets/pizzanotpizza/pizza_not_pizza/valid/no')"
   ]
  },
  {
   "cell_type": "code",
   "execution_count": 3,
   "id": "d1c4079d",
   "metadata": {},
   "outputs": [],
   "source": [
    "train_datagen = ImageDataGenerator(rescale=1/255)\n",
    "validation_datagen = ImageDataGenerator(rescale=1/255)"
   ]
  },
  {
   "cell_type": "code",
   "execution_count": 4,
   "id": "1c890ea6",
   "metadata": {},
   "outputs": [
    {
     "name": "stdout",
     "output_type": "stream",
     "text": [
      "Found 1442 images belonging to 2 classes.\n"
     ]
    }
   ],
   "source": [
    "train_generator = train_datagen.flow_from_directory(\n",
    "        'D:/Datasets/pizzanotpizza/pizza_not_pizza/train/',\n",
    "        classes = ['yes', 'no'],\n",
    "        target_size=(255, 255),\n",
    "        batch_size=1442,\n",
    "        class_mode='binary',\n",
    "        shuffle=True)"
   ]
  },
  {
   "cell_type": "code",
   "execution_count": 5,
   "id": "d7d1bfa5",
   "metadata": {},
   "outputs": [
    {
     "name": "stdout",
     "output_type": "stream",
     "text": [
      "Found 524 images belonging to 2 classes.\n"
     ]
    }
   ],
   "source": [
    "validation_generator = validation_datagen.flow_from_directory(\n",
    "        'D:/Datasets/pizzanotpizza/pizza_not_pizza/valid/',\n",
    "        classes = ['yes', 'no'],\n",
    "        target_size=(255, 255),\n",
    "        batch_size=524,\n",
    "        class_mode='binary',\n",
    "        shuffle=True)"
   ]
  },
  {
   "cell_type": "code",
   "execution_count": 6,
   "id": "db9e634b",
   "metadata": {},
   "outputs": [],
   "source": [
    "x, y = train_generator.next()"
   ]
  },
  {
   "cell_type": "code",
   "execution_count": 7,
   "id": "6b2c3236",
   "metadata": {},
   "outputs": [],
   "source": [
    "x_valid, y_valid = validation_generator.next()"
   ]
  },
  {
   "cell_type": "code",
   "execution_count": 8,
   "id": "eff3900b",
   "metadata": {},
   "outputs": [],
   "source": [
    "resnet = keras.models.Sequential()"
   ]
  },
  {
   "cell_type": "code",
   "execution_count": 11,
   "id": "43e18c0c",
   "metadata": {},
   "outputs": [
    {
     "name": "stdout",
     "output_type": "stream",
     "text": [
      "Downloading data from https://storage.googleapis.com/tensorflow/keras-applications/resnet/resnet50_weights_tf_dim_ordering_tf_kernels_notop.h5\n",
      "94773248/94765736 [==============================] - 62s 1us/step\n",
      "94781440/94765736 [==============================] - 62s 1us/step\n"
     ]
    }
   ],
   "source": [
    "pretrained = keras.applications.ResNet50(include_top=False,\n",
    "                                        input_shape=(255,255,3),\n",
    "                                        classes=2,\n",
    "                                        weights='imagenet')"
   ]
  },
  {
   "cell_type": "code",
   "execution_count": 13,
   "id": "2e772c49",
   "metadata": {},
   "outputs": [],
   "source": [
    "for layer in pretrained.layers:\n",
    "    layer.trainable=False"
   ]
  },
  {
   "cell_type": "code",
   "execution_count": 14,
   "id": "63502d8b",
   "metadata": {},
   "outputs": [],
   "source": [
    "resnet.add(pretrained)"
   ]
  },
  {
   "cell_type": "code",
   "execution_count": 17,
   "id": "31446687",
   "metadata": {},
   "outputs": [],
   "source": [
    "resnet.add(keras.layers.Flatten())\n",
    "resnet.add(keras.layers.Dense(512, activation='relu'))\n",
    "resnet.add(keras.layers.Dense(1, activation='sigmoid'))"
   ]
  },
  {
   "cell_type": "code",
   "execution_count": 18,
   "id": "c98ef68c",
   "metadata": {},
   "outputs": [
    {
     "name": "stdout",
     "output_type": "stream",
     "text": [
      "Model: \"sequential\"\n",
      "_________________________________________________________________\n",
      " Layer (type)                Output Shape              Param #   \n",
      "=================================================================\n",
      " resnet50 (Functional)       (None, 8, 8, 2048)        23587712  \n",
      "                                                                 \n",
      " flatten (Flatten)           (None, 131072)            0         \n",
      "                                                                 \n",
      " dense (Dense)               (None, 512)               67109376  \n",
      "                                                                 \n",
      " dense_1 (Dense)             (None, 1)                 513       \n",
      "                                                                 \n",
      "=================================================================\n",
      "Total params: 90,697,601\n",
      "Trainable params: 67,109,889\n",
      "Non-trainable params: 23,587,712\n",
      "_________________________________________________________________\n"
     ]
    }
   ],
   "source": [
    "resnet.summary()"
   ]
  },
  {
   "cell_type": "code",
   "execution_count": 20,
   "id": "6f6e100b",
   "metadata": {},
   "outputs": [
    {
     "name": "stdout",
     "output_type": "stream",
     "text": [
      "Epoch 1/10\n",
      "46/46 [==============================] - 126s 3s/step - loss: 5.7304 - accuracy: 0.5180 - val_loss: 1.2883 - val_accuracy: 0.5019\n",
      "Epoch 2/10\n",
      "46/46 [==============================] - 140s 3s/step - loss: 1.0185 - accuracy: 0.5777 - val_loss: 0.7949 - val_accuracy: 0.5916\n",
      "Epoch 3/10\n",
      "46/46 [==============================] - 139s 3s/step - loss: 0.5826 - accuracy: 0.6859 - val_loss: 0.5580 - val_accuracy: 0.7290\n",
      "Epoch 4/10\n",
      "46/46 [==============================] - 138s 3s/step - loss: 0.5798 - accuracy: 0.7074 - val_loss: 0.5811 - val_accuracy: 0.7004\n",
      "Epoch 5/10\n",
      "46/46 [==============================] - 138s 3s/step - loss: 0.5462 - accuracy: 0.7053 - val_loss: 1.1512 - val_accuracy: 0.5344\n",
      "Epoch 6/10\n",
      "46/46 [==============================] - 139s 3s/step - loss: 0.5691 - accuracy: 0.7316 - val_loss: 1.1174 - val_accuracy: 0.5248\n",
      "Epoch 7/10\n",
      "46/46 [==============================] - 150s 3s/step - loss: 0.4937 - accuracy: 0.7739 - val_loss: 0.5270 - val_accuracy: 0.7615\n",
      "Epoch 8/10\n",
      "46/46 [==============================] - 155s 3s/step - loss: 0.6225 - accuracy: 0.7004 - val_loss: 0.5263 - val_accuracy: 0.7615\n",
      "Epoch 9/10\n",
      "46/46 [==============================] - 152s 3s/step - loss: 0.5461 - accuracy: 0.7351 - val_loss: 0.7529 - val_accuracy: 0.6279\n",
      "Epoch 10/10\n",
      "46/46 [==============================] - 140s 3s/step - loss: 0.4188 - accuracy: 0.8037 - val_loss: 1.1163 - val_accuracy: 0.5706\n"
     ]
    }
   ],
   "source": [
    "resnet.compile(optimizer=keras.optimizers.Adam(lr=0.001),loss='binary_crossentropy',metrics=['accuracy'])\n",
    "\n",
    "history = resnet.fit(x, y, validation_data=(x_valid, y_valid), epochs=10)"
   ]
  },
  {
   "cell_type": "code",
   "execution_count": null,
   "id": "699c92b0",
   "metadata": {},
   "outputs": [],
   "source": []
  }
 ],
 "metadata": {
  "kernelspec": {
   "display_name": "Python 3",
   "language": "python",
   "name": "python3"
  },
  "language_info": {
   "codemirror_mode": {
    "name": "ipython",
    "version": 3
   },
   "file_extension": ".py",
   "mimetype": "text/x-python",
   "name": "python",
   "nbconvert_exporter": "python",
   "pygments_lexer": "ipython3",
   "version": "3.8.8"
  }
 },
 "nbformat": 4,
 "nbformat_minor": 5
}
