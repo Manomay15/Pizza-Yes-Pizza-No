{
 "cells": [
  {
   "cell_type": "code",
   "execution_count": 12,
   "id": "efe37a13",
   "metadata": {},
   "outputs": [],
   "source": [
    "import tensorflow as tf\n",
    "from tensorflow.keras.preprocessing.image import ImageDataGenerator\n",
    "import pathlib\n",
    "import os\n",
    "from tensorflow import keras"
   ]
  },
  {
   "cell_type": "code",
   "execution_count": 2,
   "id": "000e4da6",
   "metadata": {},
   "outputs": [],
   "source": [
    "train_yes_dir = os.path.join('D:/Datasets/pizzanotpizza/pizza_not_pizza/train/yes')\n",
    "train_no_dir = os.path.join('D:/Datasets/pizzanotpizza/pizza_not_pizza/train/no')\n",
    "valid_yes_dir = os.path.join('D:/Datasets/pizzanotpizza/pizza_not_pizza/valid/yes')\n",
    "valid_no_dir = os.path.join('D:/Datasets/pizzanotpizza/pizza_not_pizza/valid/no')"
   ]
  },
  {
   "cell_type": "code",
   "execution_count": 3,
   "id": "1e11f361",
   "metadata": {},
   "outputs": [],
   "source": [
    "train_datagen = ImageDataGenerator(rescale=1/255)\n",
    "validation_datagen = ImageDataGenerator(rescale=1/255)"
   ]
  },
  {
   "cell_type": "code",
   "execution_count": 5,
   "id": "c8831759",
   "metadata": {},
   "outputs": [
    {
     "name": "stdout",
     "output_type": "stream",
     "text": [
      "Found 1442 images belonging to 2 classes.\n"
     ]
    }
   ],
   "source": [
    "train_generator = train_datagen.flow_from_directory(\n",
    "        'D:/Datasets/pizzanotpizza/pizza_not_pizza/train/',\n",
    "        classes = ['yes', 'no'],\n",
    "        target_size=(255, 255),\n",
    "        batch_size=1442,\n",
    "        class_mode='binary',\n",
    "        shuffle=True)"
   ]
  },
  {
   "cell_type": "code",
   "execution_count": 6,
   "id": "e2082b14",
   "metadata": {},
   "outputs": [
    {
     "name": "stdout",
     "output_type": "stream",
     "text": [
      "Found 524 images belonging to 2 classes.\n"
     ]
    }
   ],
   "source": [
    "validation_generator = validation_datagen.flow_from_directory(\n",
    "        'D:/Datasets/pizzanotpizza/pizza_not_pizza/valid/',\n",
    "        classes = ['yes', 'no'],\n",
    "        target_size=(255, 255),\n",
    "        batch_size=524,\n",
    "        class_mode='binary',\n",
    "        shuffle=True)"
   ]
  },
  {
   "cell_type": "code",
   "execution_count": 7,
   "id": "7cccad2a",
   "metadata": {},
   "outputs": [],
   "source": [
    "x_train, y_train = train_generator.next()"
   ]
  },
  {
   "cell_type": "code",
   "execution_count": 8,
   "id": "b4327299",
   "metadata": {},
   "outputs": [],
   "source": [
    "x_valid, y_valid = validation_generator.next()"
   ]
  },
  {
   "cell_type": "code",
   "execution_count": 9,
   "id": "b23325b6",
   "metadata": {},
   "outputs": [
    {
     "data": {
      "text/plain": [
       "(1442, 255, 255, 3)"
      ]
     },
     "execution_count": 9,
     "metadata": {},
     "output_type": "execute_result"
    }
   ],
   "source": [
    "x_train.shape"
   ]
  },
  {
   "cell_type": "code",
   "execution_count": 10,
   "id": "f76e628d",
   "metadata": {},
   "outputs": [
    {
     "data": {
      "text/plain": [
       "(524, 255, 255, 3)"
      ]
     },
     "execution_count": 10,
     "metadata": {},
     "output_type": "execute_result"
    }
   ],
   "source": [
    "x_valid.shape"
   ]
  },
  {
   "cell_type": "code",
   "execution_count": 11,
   "id": "69f99172",
   "metadata": {},
   "outputs": [
    {
     "data": {
      "text/plain": [
       "(1442,)"
      ]
     },
     "execution_count": 11,
     "metadata": {},
     "output_type": "execute_result"
    }
   ],
   "source": [
    "y_train.shape"
   ]
  },
  {
   "cell_type": "code",
   "execution_count": 33,
   "id": "f9ce46c0",
   "metadata": {},
   "outputs": [],
   "source": [
    "model = keras.models.Sequential()"
   ]
  },
  {
   "cell_type": "code",
   "execution_count": 34,
   "id": "1bd053a6",
   "metadata": {},
   "outputs": [],
   "source": [
    "model.add(keras.layers.Conv2D(28, 5, input_shape=(255, 255, 3), activation='tanh'))"
   ]
  },
  {
   "cell_type": "code",
   "execution_count": 35,
   "id": "22bc24ee",
   "metadata": {},
   "outputs": [],
   "source": [
    "model.add(keras.layers.AvgPool2D(2, 2))"
   ]
  },
  {
   "cell_type": "code",
   "execution_count": 36,
   "id": "a2d44954",
   "metadata": {},
   "outputs": [],
   "source": [
    "model.add(keras.layers.Conv2D(10, 5, activation='tanh'))"
   ]
  },
  {
   "cell_type": "code",
   "execution_count": 37,
   "id": "697c4e88",
   "metadata": {},
   "outputs": [],
   "source": [
    "model.add(keras.layers.AvgPool2D(2, 2))"
   ]
  },
  {
   "cell_type": "code",
   "execution_count": 38,
   "id": "3ce4f9f1",
   "metadata": {},
   "outputs": [],
   "source": [
    "model.add(keras.layers.Conv2D(1, 5, activation='tanh'))"
   ]
  },
  {
   "cell_type": "code",
   "execution_count": 39,
   "id": "e3f5a76c",
   "metadata": {},
   "outputs": [],
   "source": [
    "model.add(keras.layers.Dense(84, activation='tanh'))"
   ]
  },
  {
   "cell_type": "code",
   "execution_count": 40,
   "id": "0f5f3391",
   "metadata": {},
   "outputs": [],
   "source": [
    "model.add(keras.layers.Dense(2, activation='sigmoid'))"
   ]
  },
  {
   "cell_type": "code",
   "execution_count": 41,
   "id": "1a0ae372",
   "metadata": {},
   "outputs": [
    {
     "name": "stdout",
     "output_type": "stream",
     "text": [
      "Model: \"sequential_3\"\n",
      "_________________________________________________________________\n",
      " Layer (type)                Output Shape              Param #   \n",
      "=================================================================\n",
      " conv2d_6 (Conv2D)           (None, 251, 251, 28)      2128      \n",
      "                                                                 \n",
      " average_pooling2d_4 (Averag  (None, 125, 125, 28)     0         \n",
      " ePooling2D)                                                     \n",
      "                                                                 \n",
      " conv2d_7 (Conv2D)           (None, 121, 121, 10)      7010      \n",
      "                                                                 \n",
      " average_pooling2d_5 (Averag  (None, 60, 60, 10)       0         \n",
      " ePooling2D)                                                     \n",
      "                                                                 \n",
      " conv2d_8 (Conv2D)           (None, 56, 56, 1)         251       \n",
      "                                                                 \n",
      " dense_2 (Dense)             (None, 56, 56, 84)        168       \n",
      "                                                                 \n",
      " dense_3 (Dense)             (None, 56, 56, 2)         170       \n",
      "                                                                 \n",
      "=================================================================\n",
      "Total params: 9,727\n",
      "Trainable params: 9,727\n",
      "Non-trainable params: 0\n",
      "_________________________________________________________________\n"
     ]
    }
   ],
   "source": [
    "model.summary()"
   ]
  },
  {
   "cell_type": "code",
   "execution_count": null,
   "id": "18c25705",
   "metadata": {},
   "outputs": [],
   "source": []
  }
 ],
 "metadata": {
  "kernelspec": {
   "display_name": "Python 3",
   "language": "python",
   "name": "python3"
  },
  "language_info": {
   "codemirror_mode": {
    "name": "ipython",
    "version": 3
   },
   "file_extension": ".py",
   "mimetype": "text/x-python",
   "name": "python",
   "nbconvert_exporter": "python",
   "pygments_lexer": "ipython3",
   "version": "3.8.8"
  }
 },
 "nbformat": 4,
 "nbformat_minor": 5
}
