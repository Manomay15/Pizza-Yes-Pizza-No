{
 "cells": [
  {
   "cell_type": "code",
   "execution_count": 1,
   "id": "21b3fdde",
   "metadata": {},
   "outputs": [],
   "source": [
    "import tensorflow as tf"
   ]
  },
  {
   "cell_type": "code",
   "execution_count": 2,
   "id": "ad3a63e4",
   "metadata": {},
   "outputs": [],
   "source": [
    "model = tf.keras.models.load_model(\"5_layer_regularized_dropout.h5\")"
   ]
  },
  {
   "cell_type": "code",
   "execution_count": 3,
   "id": "6086e73c",
   "metadata": {},
   "outputs": [
    {
     "name": "stdout",
     "output_type": "stream",
     "text": [
      "Model: \"sequential_7\"\n",
      "_________________________________________________________________\n",
      " Layer (type)                Output Shape              Param #   \n",
      "=================================================================\n",
      " flatten_7 (Flatten)         (None, 120000)            0         \n",
      "                                                                 \n",
      " dense_137 (Dense)           (None, 100)               12000100  \n",
      "                                                                 \n",
      " dense_138 (Dense)           (None, 100)               10100     \n",
      "                                                                 \n",
      " dense_139 (Dense)           (None, 100)               10100     \n",
      "                                                                 \n",
      " dense_140 (Dense)           (None, 100)               10100     \n",
      "                                                                 \n",
      " dense_141 (Dense)           (None, 100)               10100     \n",
      "                                                                 \n",
      " dense_142 (Dense)           (None, 1)                 101       \n",
      "                                                                 \n",
      "=================================================================\n",
      "Total params: 12,040,601\n",
      "Trainable params: 12,040,601\n",
      "Non-trainable params: 0\n",
      "_________________________________________________________________\n"
     ]
    }
   ],
   "source": [
    "model.summary()"
   ]
  },
  {
   "cell_type": "code",
   "execution_count": null,
   "id": "3625a540",
   "metadata": {},
   "outputs": [],
   "source": [
    "model.predict()"
   ]
  }
 ],
 "metadata": {
  "kernelspec": {
   "display_name": "Python 3",
   "language": "python",
   "name": "python3"
  },
  "language_info": {
   "codemirror_mode": {
    "name": "ipython",
    "version": 3
   },
   "file_extension": ".py",
   "mimetype": "text/x-python",
   "name": "python",
   "nbconvert_exporter": "python",
   "pygments_lexer": "ipython3",
   "version": "3.8.8"
  }
 },
 "nbformat": 4,
 "nbformat_minor": 5
}
