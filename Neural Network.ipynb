{
 "cells": [
  {
   "cell_type": "code",
   "execution_count": 1,
   "id": "b05e588a",
   "metadata": {},
   "outputs": [],
   "source": [
    "import tensorflow as tf\n",
    "from tensorflow.keras.preprocessing.image import ImageDataGenerator\n",
    "import pathlib\n",
    "import os"
   ]
  },
  {
   "cell_type": "code",
   "execution_count": 2,
   "id": "c17f9e57",
   "metadata": {},
   "outputs": [],
   "source": [
    "train_yes_dir = os.path.join('D:/Datasets/pizzanotpizza/pizza_not_pizza/train/yes')\n",
    "train_no_dir = os.path.join('D:/Datasets/pizzanotpizza/pizza_not_pizza/train/no')\n",
    "valid_yes_dir = os.path.join('D:/Datasets/pizzanotpizza/pizza_not_pizza/valid/yes')\n",
    "valid_no_dir = os.path.join('D:/Datasets/pizzanotpizza/pizza_not_pizza/valid/no')"
   ]
  },
  {
   "cell_type": "code",
   "execution_count": 3,
   "id": "5a60f36d",
   "metadata": {},
   "outputs": [],
   "source": [
    "train_datagen = ImageDataGenerator(rescale=1/255)\n",
    "validation_datagen = ImageDataGenerator(rescale=1/255)"
   ]
  },
  {
   "cell_type": "code",
   "execution_count": 4,
   "id": "a05e03f4",
   "metadata": {},
   "outputs": [
    {
     "name": "stdout",
     "output_type": "stream",
     "text": [
      "Found 1442 images belonging to 2 classes.\n"
     ]
    }
   ],
   "source": [
    "train_generator = train_datagen.flow_from_directory(\n",
    "        'D:/Datasets/pizzanotpizza/pizza_not_pizza/train/',\n",
    "        classes = ['yes', 'no'],\n",
    "        target_size=(200, 200),\n",
    "        batch_size=120,\n",
    "        class_mode='binary')"
   ]
  },
  {
   "cell_type": "code",
   "execution_count": 5,
   "id": "ce068b84",
   "metadata": {},
   "outputs": [
    {
     "name": "stdout",
     "output_type": "stream",
     "text": [
      "Found 524 images belonging to 2 classes.\n"
     ]
    }
   ],
   "source": [
    "validation_generator = validation_datagen.flow_from_directory(\n",
    "        'D:/Datasets/pizzanotpizza/pizza_not_pizza/valid/',\n",
    "        classes = ['yes', 'no'],\n",
    "        target_size=(200, 200),\n",
    "        batch_size=19,\n",
    "        class_mode='binary',\n",
    "        shuffle=False)"
   ]
  },
  {
   "cell_type": "code",
   "execution_count": 6,
   "id": "08c30aad",
   "metadata": {},
   "outputs": [
    {
     "data": {
      "text/plain": [
       "<keras.preprocessing.image.DirectoryIterator at 0x1e506488d00>"
      ]
     },
     "execution_count": 6,
     "metadata": {},
     "output_type": "execute_result"
    }
   ],
   "source": [
    "train_generator"
   ]
  },
  {
   "cell_type": "code",
   "execution_count": null,
   "id": "cb34b08d",
   "metadata": {},
   "outputs": [],
   "source": [
    "train"
   ]
  }
 ],
 "metadata": {
  "kernelspec": {
   "display_name": "Python 3",
   "language": "python",
   "name": "python3"
  },
  "language_info": {
   "codemirror_mode": {
    "name": "ipython",
    "version": 3
   },
   "file_extension": ".py",
   "mimetype": "text/x-python",
   "name": "python",
   "nbconvert_exporter": "python",
   "pygments_lexer": "ipython3",
   "version": "3.8.8"
  }
 },
 "nbformat": 4,
 "nbformat_minor": 5
}
