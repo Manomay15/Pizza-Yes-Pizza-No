{
 "cells": [
  {
   "cell_type": "code",
   "execution_count": 1,
   "id": "c5ef4d3c",
   "metadata": {},
   "outputs": [],
   "source": [
    "import tensorflow as tf\n",
    "from tensorflow.keras.preprocessing.image import ImageDataGenerator\n",
    "import pathlib\n",
    "import os\n",
    "from tensorflow import keras"
   ]
  },
  {
   "cell_type": "code",
   "execution_count": 2,
   "id": "a400bf9e",
   "metadata": {},
   "outputs": [],
   "source": [
    "train_yes_dir = os.path.join('D:/Datasets/pizzanotpizza/pizza_not_pizza/train/yes')\n",
    "train_no_dir = os.path.join('D:/Datasets/pizzanotpizza/pizza_not_pizza/train/no')\n",
    "valid_yes_dir = os.path.join('D:/Datasets/pizzanotpizza/pizza_not_pizza/valid/yes')\n",
    "valid_no_dir = os.path.join('D:/Datasets/pizzanotpizza/pizza_not_pizza/valid/no')"
   ]
  },
  {
   "cell_type": "code",
   "execution_count": 3,
   "id": "68cae8da",
   "metadata": {},
   "outputs": [],
   "source": [
    "train_datagen = ImageDataGenerator(rescale=1/255)\n",
    "validation_datagen = ImageDataGenerator(rescale=1/255)"
   ]
  },
  {
   "cell_type": "code",
   "execution_count": 4,
   "id": "2f25d490",
   "metadata": {},
   "outputs": [
    {
     "name": "stdout",
     "output_type": "stream",
     "text": [
      "Found 1442 images belonging to 2 classes.\n"
     ]
    }
   ],
   "source": [
    "train_generator = train_datagen.flow_from_directory(\n",
    "        'D:/Datasets/pizzanotpizza/pizza_not_pizza/train/',\n",
    "        classes = ['yes', 'no'],\n",
    "        target_size=(255, 255),\n",
    "        batch_size=1442,\n",
    "        class_mode='binary',\n",
    "        shuffle=True)"
   ]
  },
  {
   "cell_type": "code",
   "execution_count": 5,
   "id": "fcf61107",
   "metadata": {},
   "outputs": [
    {
     "name": "stdout",
     "output_type": "stream",
     "text": [
      "Found 524 images belonging to 2 classes.\n"
     ]
    }
   ],
   "source": [
    "validation_generator = validation_datagen.flow_from_directory(\n",
    "        'D:/Datasets/pizzanotpizza/pizza_not_pizza/valid/',\n",
    "        classes = ['yes', 'no'],\n",
    "        target_size=(255, 255),\n",
    "        batch_size=524,\n",
    "        class_mode='binary',\n",
    "        shuffle=True)"
   ]
  },
  {
   "cell_type": "code",
   "execution_count": 6,
   "id": "f20ee198",
   "metadata": {},
   "outputs": [],
   "source": [
    "x_train, y_train = train_generator.next()"
   ]
  },
  {
   "cell_type": "code",
   "execution_count": 7,
   "id": "43f131b1",
   "metadata": {},
   "outputs": [],
   "source": [
    "x_valid, y_valid = validation_generator.next()"
   ]
  },
  {
   "cell_type": "code",
   "execution_count": 9,
   "id": "8afbcc09",
   "metadata": {},
   "outputs": [
    {
     "data": {
      "text/plain": [
       "(1442, 255, 255, 3)"
      ]
     },
     "execution_count": 9,
     "metadata": {},
     "output_type": "execute_result"
    }
   ],
   "source": [
    "x_train.shape"
   ]
  },
  {
   "cell_type": "code",
   "execution_count": 10,
   "id": "cc305c53",
   "metadata": {},
   "outputs": [
    {
     "data": {
      "text/plain": [
       "(524, 255, 255, 3)"
      ]
     },
     "execution_count": 10,
     "metadata": {},
     "output_type": "execute_result"
    }
   ],
   "source": [
    "x_valid.shape"
   ]
  },
  {
   "cell_type": "code",
   "execution_count": 11,
   "id": "ae8e3fef",
   "metadata": {},
   "outputs": [
    {
     "data": {
      "text/plain": [
       "(1442,)"
      ]
     },
     "execution_count": 11,
     "metadata": {},
     "output_type": "execute_result"
    }
   ],
   "source": [
    "y_train.shape"
   ]
  },
  {
   "cell_type": "code",
   "execution_count": 72,
   "id": "9e3211fc",
   "metadata": {},
   "outputs": [],
   "source": [
    "model = keras.models.Sequential()"
   ]
  },
  {
   "cell_type": "code",
   "execution_count": 73,
   "id": "306d491b",
   "metadata": {},
   "outputs": [],
   "source": [
    "model.add(keras.layers.Conv2D(28, 5, input_shape=(255, 255, 3), activation='tanh'))"
   ]
  },
  {
   "cell_type": "code",
   "execution_count": 74,
   "id": "c2e16d4c",
   "metadata": {},
   "outputs": [],
   "source": [
    "model.add(keras.layers.AvgPool2D(2, 2))"
   ]
  },
  {
   "cell_type": "code",
   "execution_count": 75,
   "id": "9150ab6c",
   "metadata": {},
   "outputs": [],
   "source": [
    "model.add(keras.layers.Conv2D(10, 5, activation='tanh'))"
   ]
  },
  {
   "cell_type": "code",
   "execution_count": 76,
   "id": "720b19a6",
   "metadata": {},
   "outputs": [],
   "source": [
    "model.add(keras.layers.AvgPool2D(2, 2))"
   ]
  },
  {
   "cell_type": "code",
   "execution_count": 77,
   "id": "f2f1710a",
   "metadata": {},
   "outputs": [],
   "source": [
    "model.add(keras.layers.Conv2D(1, 5, activation='tanh'))"
   ]
  },
  {
   "cell_type": "code",
   "execution_count": 78,
   "id": "3c13b6c5",
   "metadata": {},
   "outputs": [],
   "source": [
    "model.add(keras.layers.Flatten())"
   ]
  },
  {
   "cell_type": "code",
   "execution_count": 79,
   "id": "d8c303f5",
   "metadata": {},
   "outputs": [],
   "source": [
    "model.add(keras.layers.Dense(84, activation='tanh'))"
   ]
  },
  {
   "cell_type": "code",
   "execution_count": 80,
   "id": "98dae4c1",
   "metadata": {},
   "outputs": [],
   "source": [
    "model.add(keras.layers.Dense(1, activation='sigmoid'))"
   ]
  },
  {
   "cell_type": "code",
   "execution_count": 81,
   "id": "ba37f1f3",
   "metadata": {},
   "outputs": [
    {
     "name": "stdout",
     "output_type": "stream",
     "text": [
      "Model: \"sequential_7\"\n",
      "_________________________________________________________________\n",
      " Layer (type)                Output Shape              Param #   \n",
      "=================================================================\n",
      " conv2d_17 (Conv2D)          (None, 251, 251, 28)      2128      \n",
      "                                                                 \n",
      " average_pooling2d_11 (Avera  (None, 125, 125, 28)     0         \n",
      " gePooling2D)                                                    \n",
      "                                                                 \n",
      " conv2d_18 (Conv2D)          (None, 121, 121, 10)      7010      \n",
      "                                                                 \n",
      " average_pooling2d_12 (Avera  (None, 60, 60, 10)       0         \n",
      " gePooling2D)                                                    \n",
      "                                                                 \n",
      " conv2d_19 (Conv2D)          (None, 56, 56, 1)         251       \n",
      "                                                                 \n",
      " flatten_2 (Flatten)         (None, 3136)              0         \n",
      "                                                                 \n",
      " dense_8 (Dense)             (None, 84)                263508    \n",
      "                                                                 \n",
      " dense_9 (Dense)             (None, 1)                 85        \n",
      "                                                                 \n",
      "=================================================================\n",
      "Total params: 272,982\n",
      "Trainable params: 272,982\n",
      "Non-trainable params: 0\n",
      "_________________________________________________________________\n"
     ]
    }
   ],
   "source": [
    "model.summary()"
   ]
  },
  {
   "cell_type": "code",
   "execution_count": 82,
   "id": "ef0100e9",
   "metadata": {},
   "outputs": [],
   "source": [
    "model.compile(optimizer='adam',\n",
    "             loss='binary_crossentropy',\n",
    "             metrics=['accuracy'])"
   ]
  },
  {
   "cell_type": "code",
   "execution_count": 83,
   "id": "2e16da3f",
   "metadata": {},
   "outputs": [
    {
     "data": {
      "text/plain": [
       "(1442, 255, 255, 3)"
      ]
     },
     "execution_count": 83,
     "metadata": {},
     "output_type": "execute_result"
    }
   ],
   "source": [
    "x_train.shape"
   ]
  },
  {
   "cell_type": "code",
   "execution_count": 84,
   "id": "2f75b4bb",
   "metadata": {},
   "outputs": [
    {
     "name": "stdout",
     "output_type": "stream",
     "text": [
      "Epoch 1/10\n",
      "46/46 [==============================] - 77s 2s/step - loss: 0.7495 - accuracy: 0.5541 - val_loss: 0.6650 - val_accuracy: 0.6088\n",
      "Epoch 2/10\n",
      "46/46 [==============================] - 75s 2s/step - loss: 0.6578 - accuracy: 0.6075 - val_loss: 0.6533 - val_accuracy: 0.6317\n",
      "Epoch 3/10\n",
      "46/46 [==============================] - 75s 2s/step - loss: 0.6522 - accuracy: 0.6290 - val_loss: 0.6792 - val_accuracy: 0.5573\n",
      "Epoch 4/10\n",
      "46/46 [==============================] - 75s 2s/step - loss: 0.6309 - accuracy: 0.6449 - val_loss: 0.6817 - val_accuracy: 0.5630\n",
      "Epoch 5/10\n",
      "46/46 [==============================] - 75s 2s/step - loss: 0.5855 - accuracy: 0.6803 - val_loss: 0.6639 - val_accuracy: 0.6260\n",
      "Epoch 6/10\n",
      "46/46 [==============================] - 75s 2s/step - loss: 0.5178 - accuracy: 0.7448 - val_loss: 0.6773 - val_accuracy: 0.6164\n",
      "Epoch 7/10\n",
      "46/46 [==============================] - 76s 2s/step - loss: 0.4135 - accuracy: 0.8204 - val_loss: 0.6942 - val_accuracy: 0.6069\n",
      "Epoch 8/10\n",
      "46/46 [==============================] - 75s 2s/step - loss: 0.3197 - accuracy: 0.8793 - val_loss: 0.8383 - val_accuracy: 0.5782\n",
      "Epoch 9/10\n",
      "46/46 [==============================] - 74s 2s/step - loss: 0.2251 - accuracy: 0.9209 - val_loss: 0.7693 - val_accuracy: 0.6107\n",
      "Epoch 10/10\n",
      "46/46 [==============================] - 76s 2s/step - loss: 0.1479 - accuracy: 0.9702 - val_loss: 0.9688 - val_accuracy: 0.5782\n"
     ]
    },
    {
     "data": {
      "text/plain": [
       "<keras.callbacks.History at 0x1f828e7a190>"
      ]
     },
     "execution_count": 84,
     "metadata": {},
     "output_type": "execute_result"
    }
   ],
   "source": [
    "model.fit(x_train, y_train, epochs=10, validation_data=(x_valid, y_valid))"
   ]
  },
  {
   "cell_type": "code",
   "execution_count": 35,
   "id": "a79a0846",
   "metadata": {},
   "outputs": [],
   "source": [
    "alexNet = keras.models.Sequential([\n",
    "    keras.layers.Conv2D(filters=96, kernel_size=(11,11), strides=(4,4), activation='relu', input_shape=(255,255,3)),\n",
    "    keras.layers.BatchNormalization(),\n",
    "    keras.layers.MaxPool2D(pool_size=(3,3), strides=(2,2)),\n",
    "    keras.layers.Conv2D(filters=256, kernel_size=(5,5), strides=(1,1), activation='relu', padding=\"same\"),\n",
    "    keras.layers.BatchNormalization(),\n",
    "    keras.layers.MaxPool2D(pool_size=(3,3), strides=(2,2)),\n",
    "    keras.layers.Conv2D(filters=384, kernel_size=(3,3), strides=(1,1), activation='relu', padding=\"same\"),\n",
    "    keras.layers.BatchNormalization(),\n",
    "    keras.layers.Conv2D(filters=384, kernel_size=(3,3), strides=(1,1), activation='relu', padding=\"same\"),\n",
    "    keras.layers.BatchNormalization(),\n",
    "    keras.layers.Conv2D(filters=256, kernel_size=(3,3), strides=(1,1), activation='relu', padding=\"same\"),\n",
    "    keras.layers.BatchNormalization(),\n",
    "    keras.layers.MaxPool2D(pool_size=(3,3), strides=(2,2)),\n",
    "    keras.layers.Flatten(),\n",
    "    keras.layers.Dense(4096, activation='relu'),\n",
    "    keras.layers.Dropout(0.5),\n",
    "    keras.layers.Dense(2048, activation='relu'),\n",
    "    keras.layers.Dropout(0.5),\n",
    "    keras.layers.Dense(1, activation='sigmoid')\n",
    "])"
   ]
  },
  {
   "cell_type": "code",
   "execution_count": 38,
   "id": "5612898d",
   "metadata": {},
   "outputs": [],
   "source": [
    "alexNet.compile(loss='binary_crossentropy', optimizer=tf.optimizers.SGD(), metrics=['accuracy'])"
   ]
  },
  {
   "cell_type": "code",
   "execution_count": 40,
   "id": "79a499db",
   "metadata": {},
   "outputs": [
    {
     "name": "stdout",
     "output_type": "stream",
     "text": [
      "Epoch 1/10\n",
      "46/46 [==============================] - 71s 2s/step - loss: 1.0732 - accuracy: 0.6214 - val_loss: 0.6990 - val_accuracy: 0.5134\n",
      "Epoch 2/10\n",
      "46/46 [==============================] - 83s 2s/step - loss: 0.6578 - accuracy: 0.6976 - val_loss: 0.6838 - val_accuracy: 0.5725\n",
      "Epoch 3/10\n",
      "46/46 [==============================] - 84s 2s/step - loss: 0.6472 - accuracy: 0.7198 - val_loss: 0.7959 - val_accuracy: 0.5210\n",
      "Epoch 4/10\n",
      "46/46 [==============================] - 85s 2s/step - loss: 0.5270 - accuracy: 0.7614 - val_loss: 0.7304 - val_accuracy: 0.6374\n",
      "Epoch 5/10\n",
      "46/46 [==============================] - 84s 2s/step - loss: 0.5177 - accuracy: 0.7649 - val_loss: 1.1722 - val_accuracy: 0.5248\n",
      "Epoch 6/10\n",
      "46/46 [==============================] - 84s 2s/step - loss: 0.4655 - accuracy: 0.7913 - val_loss: 1.3878 - val_accuracy: 0.5782\n",
      "Epoch 7/10\n",
      "46/46 [==============================] - 85s 2s/step - loss: 0.4397 - accuracy: 0.8058 - val_loss: 0.9922 - val_accuracy: 0.6317\n",
      "Epoch 8/10\n",
      "46/46 [==============================] - 96s 2s/step - loss: 0.4664 - accuracy: 0.8010 - val_loss: 1.7027 - val_accuracy: 0.5859\n",
      "Epoch 9/10\n",
      "46/46 [==============================] - 89s 2s/step - loss: 0.5038 - accuracy: 0.7968 - val_loss: 1.5403 - val_accuracy: 0.6088\n",
      "Epoch 10/10\n",
      "46/46 [==============================] - 87s 2s/step - loss: 0.4236 - accuracy: 0.8107 - val_loss: 1.1561 - val_accuracy: 0.5878\n"
     ]
    },
    {
     "data": {
      "text/plain": [
       "<keras.callbacks.History at 0x1aeb8706af0>"
      ]
     },
     "execution_count": 40,
     "metadata": {},
     "output_type": "execute_result"
    }
   ],
   "source": [
    "alexNet.fit(x_train, y_train, epochs=10, validation_data=(x_valid, y_valid))"
   ]
  },
  {
   "cell_type": "code",
   "execution_count": null,
   "id": "bbc2558c",
   "metadata": {},
   "outputs": [],
   "source": []
  }
 ],
 "metadata": {
  "kernelspec": {
   "display_name": "Python 3",
   "language": "python",
   "name": "python3"
  },
  "language_info": {
   "codemirror_mode": {
    "name": "ipython",
    "version": 3
   },
   "file_extension": ".py",
   "mimetype": "text/x-python",
   "name": "python",
   "nbconvert_exporter": "python",
   "pygments_lexer": "ipython3",
   "version": "3.8.8"
  }
 },
 "nbformat": 4,
 "nbformat_minor": 5
}
